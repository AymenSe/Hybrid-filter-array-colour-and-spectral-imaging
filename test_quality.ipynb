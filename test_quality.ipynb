{
 "cells": [
  {
   "cell_type": "code",
   "execution_count": 1,
   "metadata": {},
   "outputs": [
    {
     "ename": "",
     "evalue": "",
     "output_type": "error",
     "traceback": [
      "\u001b[1;31mThe Kernel crashed while executing code in the current cell or a previous cell. \n",
      "\u001b[1;31mPlease review the code in the cell(s) to identify a possible cause of the failure. \n",
      "\u001b[1;31mClick <a href='https://aka.ms/vscodeJupyterKernelCrash'>here</a> for more info. \n",
      "\u001b[1;31mView Jupyter <a href='command:jupyter.viewOutput'>log</a> for further details."
     ]
    }
   ],
   "source": [
    "import cv2 as cv\n",
    "import numpy as np\n",
    "from iqa import *\n",
    "\n"
   ]
  },
  {
   "cell_type": "code",
   "execution_count": null,
   "metadata": {},
   "outputs": [],
   "source": []
  },
  {
   "cell_type": "code",
   "execution_count": null,
   "metadata": {},
   "outputs": [],
   "source": [
    "from colour.utilities import validate_method\n",
    "from colour.hints import ArrayLike, Literal, NDArray\n",
    "from colour.utilities import as_float_array, tsplit\n",
    "import numpy as np\n",
    "from colour.hints import Literal, NDArray, Tuple\n",
    "\n",
    "def masks_CFA_Bayer(\n",
    "    shape: int | Tuple[int, ...],\n",
    "    pattern: Literal[\"RGGB\", \"BGGR\", \"GRBG\", \"GBRG\", \"RGXB\", \"BGXR\", \"GRBX\", \"GBRX\"] | str = \"RGGB\",\n",
    ") -> Tuple[NDArray, ...]:\n",
    "\n",
    "    pattern = validate_method(\n",
    "        pattern,\n",
    "        (\"RGGB\", \"BGGR\", \"GRBG\", \"GBRG\"),\n",
    "        '\"{0}\" CFA pattern is invalid, it must be one of {1}!',\n",
    "    ).upper()\n",
    "\n",
    "    channels = {channel: np.zeros(shape, dtype=\"bool\") for channel in \"RGB\"}\n",
    "    for channel, (y, x) in zip(pattern, [(0, 0), (0, 1), (1, 0), (1, 1)]):\n",
    "        channels[channel][y::2, x::2] = 1\n",
    "\n",
    "    return tuple(channels.values())\n",
    "\n",
    "\n",
    "def mosaicing_CFA_Bayer(\n",
    "    RGB: ArrayLike,\n",
    "    pattern: Literal[\"RGGB\", \"BGGR\", \"GRBG\", \"GBRG\"] | str = \"RGGB\",\n",
    ") -> NDArray:\n",
    "\n",
    "    RGB = as_float_array(RGB)\n",
    "\n",
    "    R, G, B = tsplit(RGB)\n",
    "    R_m, G_m, B_m = masks_CFA_Bayer(RGB.shape[0:2], pattern)\n",
    "\n",
    "    CFA = R * R_m + G * G_m + B * B_m\n",
    "\n",
    "    return CFA"
   ]
  },
  {
   "cell_type": "code",
   "execution_count": null,
   "metadata": {},
   "outputs": [],
   "source": [
    "import matplotlib.pyplot as plt\n",
    "import numpy as np\n",
    "\n",
    "# Define the function\n",
    "def f(x):\n",
    "    return (3 - 2 * x) * np.exp(x) + 2\n",
    "\n",
    "# Generate x values\n",
    "x = np.linspace(-2, 2, 500)\n",
    "\n",
    "# Calculate y values\n",
    "y = f(x)\n",
    "\n",
    "# Plot the function\n",
    "plt.figure(figsize=(8, 6))\n",
    "plt.plot(x, y, label=r'$f(x) = (3 - 2x)e^x + 2$', color='blue')\n",
    "plt.axhline(0, color='black', linewidth=0.5, linestyle='--')\n",
    "plt.axvline(0, color='black', linewidth=0.5, linestyle='--')\n",
    "plt.title('Plot of the Function $f(x) = (3 - 2x)e^x + 2$', fontsize=14)\n"
   ]
  },
  {
   "cell_type": "code",
   "execution_count": null,
   "metadata": {},
   "outputs": [],
   "source": []
  }
 ],
 "metadata": {
  "kernelspec": {
   "display_name": "phd",
   "language": "python",
   "name": "python3"
  },
  "language_info": {
   "codemirror_mode": {
    "name": "ipython",
    "version": 3
   },
   "file_extension": ".py",
   "mimetype": "text/x-python",
   "name": "python",
   "nbconvert_exporter": "python",
   "pygments_lexer": "ipython3",
   "version": "3.12.7"
  }
 },
 "nbformat": 4,
 "nbformat_minor": 2
}
